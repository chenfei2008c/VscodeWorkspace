{
 "cells": [
  {
   "cell_type": "markdown",
   "metadata": {},
   "source": [
    "# XGBoost模型调优"
   ]
  },
  {
   "cell_type": "markdown",
   "metadata": {},
   "source": [
    "## 加载要用的库"
   ]
  },
  {
   "cell_type": "code",
   "execution_count": 3,
   "metadata": {
    "collapsed": true
   },
   "outputs": [
    {
     "ename": "XGBoostError",
     "evalue": "\nXGBoost Library (libxgboost.dylib) could not be loaded.\nLikely causes:\n  * OpenMP runtime is not installed\n    - vcomp140.dll or libgomp-1.dll for Windows\n    - libomp.dylib for Mac OSX\n    - libgomp.so for Linux and other UNIX-like OSes\n    Mac OSX users: Run `brew install libomp` to install OpenMP runtime.\n\n  * You are running 32-bit Python on a 64-bit OS\n\nError message(s): [\"dlopen(/Library/Frameworks/Python.framework/Versions/3.9/lib/python3.9/site-packages/xgboost/lib/libxgboost.dylib, 0x0006): Library not loaded: @rpath/libomp.dylib\\n  Referenced from: <04125532-9495-3051-97BC-F23BE76BA2F9> /Library/Frameworks/Python.framework/Versions/3.9/lib/python3.9/site-packages/xgboost/lib/libxgboost.dylib\\n  Reason: tried: '/usr/local/opt/libomp/lib/libomp.dylib' (no such file), '/System/Volumes/Preboot/Cryptexes/OS/usr/local/opt/libomp/lib/libomp.dylib' (no such file), '/usr/local/opt/libomp/lib/libomp.dylib' (no such file), '/System/Volumes/Preboot/Cryptexes/OS/usr/local/opt/libomp/lib/libomp.dylib' (no such file)\"]\n",
     "output_type": "error",
     "traceback": [
      "\u001b[0;31m---------------------------------------------------------------------------\u001b[0m",
      "\u001b[0;31mXGBoostError\u001b[0m                              Traceback (most recent call last)",
      "Cell \u001b[0;32mIn[3], line 3\u001b[0m\n\u001b[1;32m      1\u001b[0m \u001b[38;5;28;01mimport\u001b[39;00m \u001b[38;5;21;01mpandas\u001b[39;00m \u001b[38;5;28;01mas\u001b[39;00m \u001b[38;5;21;01mpd\u001b[39;00m\n\u001b[1;32m      2\u001b[0m \u001b[38;5;28;01mimport\u001b[39;00m \u001b[38;5;21;01mnumpy\u001b[39;00m \u001b[38;5;28;01mas\u001b[39;00m \u001b[38;5;21;01mnp\u001b[39;00m\n\u001b[0;32m----> 3\u001b[0m \u001b[38;5;28;01mimport\u001b[39;00m \u001b[38;5;21;01mxgboost\u001b[39;00m \u001b[38;5;28;01mas\u001b[39;00m \u001b[38;5;21;01mxgb\u001b[39;00m\n\u001b[1;32m      4\u001b[0m \u001b[38;5;28;01mfrom\u001b[39;00m \u001b[38;5;21;01mxgboost\u001b[39;00m\u001b[38;5;21;01m.\u001b[39;00m\u001b[38;5;21;01msklearn\u001b[39;00m \u001b[38;5;28;01mimport\u001b[39;00m XGBClassifier\n\u001b[1;32m      5\u001b[0m \u001b[38;5;28;01mfrom\u001b[39;00m \u001b[38;5;21;01msklearn\u001b[39;00m \u001b[38;5;28;01mimport\u001b[39;00m model_selection, metrics\n",
      "File \u001b[0;32m/Library/Frameworks/Python.framework/Versions/3.9/lib/python3.9/site-packages/xgboost/__init__.py:6\u001b[0m\n\u001b[1;32m      1\u001b[0m \u001b[38;5;124;03m\"\"\"XGBoost: eXtreme Gradient Boosting library.\u001b[39;00m\n\u001b[1;32m      2\u001b[0m \n\u001b[1;32m      3\u001b[0m \u001b[38;5;124;03mContributors: https://github.com/dmlc/xgboost/blob/master/CONTRIBUTORS.md\u001b[39;00m\n\u001b[1;32m      4\u001b[0m \u001b[38;5;124;03m\"\"\"\u001b[39;00m\n\u001b[0;32m----> 6\u001b[0m \u001b[38;5;28;01mfrom\u001b[39;00m \u001b[38;5;21;01m.\u001b[39;00m \u001b[38;5;28;01mimport\u001b[39;00m tracker  \u001b[38;5;66;03m# noqa\u001b[39;00m\n\u001b[1;32m      7\u001b[0m \u001b[38;5;28;01mfrom\u001b[39;00m \u001b[38;5;21;01m.\u001b[39;00m \u001b[38;5;28;01mimport\u001b[39;00m collective, dask\n\u001b[1;32m      8\u001b[0m \u001b[38;5;28;01mfrom\u001b[39;00m \u001b[38;5;21;01m.\u001b[39;00m\u001b[38;5;21;01mcore\u001b[39;00m \u001b[38;5;28;01mimport\u001b[39;00m (\n\u001b[1;32m      9\u001b[0m     Booster,\n\u001b[1;32m     10\u001b[0m     DataIter,\n\u001b[0;32m   (...)\u001b[0m\n\u001b[1;32m     15\u001b[0m     build_info,\n\u001b[1;32m     16\u001b[0m )\n",
      "File \u001b[0;32m/Library/Frameworks/Python.framework/Versions/3.9/lib/python3.9/site-packages/xgboost/tracker.py:9\u001b[0m\n\u001b[1;32m      6\u001b[0m \u001b[38;5;28;01mfrom\u001b[39;00m \u001b[38;5;21;01menum\u001b[39;00m \u001b[38;5;28;01mimport\u001b[39;00m IntEnum, unique\n\u001b[1;32m      7\u001b[0m \u001b[38;5;28;01mfrom\u001b[39;00m \u001b[38;5;21;01mtyping\u001b[39;00m \u001b[38;5;28;01mimport\u001b[39;00m Dict, Optional, Union\n\u001b[0;32m----> 9\u001b[0m \u001b[38;5;28;01mfrom\u001b[39;00m \u001b[38;5;21;01m.\u001b[39;00m\u001b[38;5;21;01mcore\u001b[39;00m \u001b[38;5;28;01mimport\u001b[39;00m _LIB, _check_call, make_jcargs\n\u001b[1;32m     12\u001b[0m \u001b[38;5;28;01mdef\u001b[39;00m \u001b[38;5;21mget_family\u001b[39m(addr: \u001b[38;5;28mstr\u001b[39m) \u001b[38;5;241m-\u001b[39m\u001b[38;5;241m>\u001b[39m \u001b[38;5;28mint\u001b[39m:\n\u001b[1;32m     13\u001b[0m \u001b[38;5;250m    \u001b[39m\u001b[38;5;124;03m\"\"\"Get network family from address.\"\"\"\u001b[39;00m\n",
      "File \u001b[0;32m/Library/Frameworks/Python.framework/Versions/3.9/lib/python3.9/site-packages/xgboost/core.py:269\u001b[0m\n\u001b[1;32m    265\u001b[0m     \u001b[38;5;28;01mreturn\u001b[39;00m lib\n\u001b[1;32m    268\u001b[0m \u001b[38;5;66;03m# load the XGBoost library globally\u001b[39;00m\n\u001b[0;32m--> 269\u001b[0m _LIB \u001b[38;5;241m=\u001b[39m \u001b[43m_load_lib\u001b[49m\u001b[43m(\u001b[49m\u001b[43m)\u001b[49m\n\u001b[1;32m    272\u001b[0m \u001b[38;5;28;01mdef\u001b[39;00m \u001b[38;5;21m_check_call\u001b[39m(ret: \u001b[38;5;28mint\u001b[39m) \u001b[38;5;241m-\u001b[39m\u001b[38;5;241m>\u001b[39m \u001b[38;5;28;01mNone\u001b[39;00m:\n\u001b[1;32m    273\u001b[0m \u001b[38;5;250m    \u001b[39m\u001b[38;5;124;03m\"\"\"Check the return value of C API call\u001b[39;00m\n\u001b[1;32m    274\u001b[0m \n\u001b[1;32m    275\u001b[0m \u001b[38;5;124;03m    This function will raise exception when error occurs.\u001b[39;00m\n\u001b[0;32m   (...)\u001b[0m\n\u001b[1;32m    281\u001b[0m \u001b[38;5;124;03m        return value from API calls\u001b[39;00m\n\u001b[1;32m    282\u001b[0m \u001b[38;5;124;03m    \"\"\"\u001b[39;00m\n",
      "File \u001b[0;32m/Library/Frameworks/Python.framework/Versions/3.9/lib/python3.9/site-packages/xgboost/core.py:222\u001b[0m, in \u001b[0;36m_load_lib\u001b[0;34m()\u001b[0m\n\u001b[1;32m    220\u001b[0m     \u001b[38;5;28;01mif\u001b[39;00m \u001b[38;5;129;01mnot\u001b[39;00m lib_success:\n\u001b[1;32m    221\u001b[0m         libname \u001b[38;5;241m=\u001b[39m os\u001b[38;5;241m.\u001b[39mpath\u001b[38;5;241m.\u001b[39mbasename(lib_paths[\u001b[38;5;241m0\u001b[39m])\n\u001b[0;32m--> 222\u001b[0m         \u001b[38;5;28;01mraise\u001b[39;00m XGBoostError(\n\u001b[1;32m    223\u001b[0m             \u001b[38;5;124mf\u001b[39m\u001b[38;5;124m\"\"\"\u001b[39m\n\u001b[1;32m    224\u001b[0m \u001b[38;5;124mXGBoost Library (\u001b[39m\u001b[38;5;132;01m{\u001b[39;00mlibname\u001b[38;5;132;01m}\u001b[39;00m\u001b[38;5;124m) could not be loaded.\u001b[39m\n\u001b[1;32m    225\u001b[0m \u001b[38;5;124mLikely causes:\u001b[39m\n\u001b[1;32m    226\u001b[0m \u001b[38;5;124m  * OpenMP runtime is not installed\u001b[39m\n\u001b[1;32m    227\u001b[0m \u001b[38;5;124m    - vcomp140.dll or libgomp-1.dll for Windows\u001b[39m\n\u001b[1;32m    228\u001b[0m \u001b[38;5;124m    - libomp.dylib for Mac OSX\u001b[39m\n\u001b[1;32m    229\u001b[0m \u001b[38;5;124m    - libgomp.so for Linux and other UNIX-like OSes\u001b[39m\n\u001b[1;32m    230\u001b[0m \u001b[38;5;124m    Mac OSX users: Run `brew install libomp` to install OpenMP runtime.\u001b[39m\n\u001b[1;32m    231\u001b[0m \n\u001b[1;32m    232\u001b[0m \u001b[38;5;124m  * You are running 32-bit Python on a 64-bit OS\u001b[39m\n\u001b[1;32m    233\u001b[0m \n\u001b[1;32m    234\u001b[0m \u001b[38;5;124mError message(s): \u001b[39m\u001b[38;5;132;01m{\u001b[39;00mos_error_list\u001b[38;5;132;01m}\u001b[39;00m\n\u001b[1;32m    235\u001b[0m \u001b[38;5;124m\"\"\"\u001b[39m\n\u001b[1;32m    236\u001b[0m         )\n\u001b[1;32m    237\u001b[0m     _register_log_callback(lib)\n\u001b[1;32m    239\u001b[0m     \u001b[38;5;28;01mdef\u001b[39;00m \u001b[38;5;21mparse\u001b[39m(ver: \u001b[38;5;28mstr\u001b[39m) \u001b[38;5;241m-\u001b[39m\u001b[38;5;241m>\u001b[39m Tuple[\u001b[38;5;28mint\u001b[39m, \u001b[38;5;28mint\u001b[39m, \u001b[38;5;28mint\u001b[39m]:\n",
      "\u001b[0;31mXGBoostError\u001b[0m: \nXGBoost Library (libxgboost.dylib) could not be loaded.\nLikely causes:\n  * OpenMP runtime is not installed\n    - vcomp140.dll or libgomp-1.dll for Windows\n    - libomp.dylib for Mac OSX\n    - libgomp.so for Linux and other UNIX-like OSes\n    Mac OSX users: Run `brew install libomp` to install OpenMP runtime.\n\n  * You are running 32-bit Python on a 64-bit OS\n\nError message(s): [\"dlopen(/Library/Frameworks/Python.framework/Versions/3.9/lib/python3.9/site-packages/xgboost/lib/libxgboost.dylib, 0x0006): Library not loaded: @rpath/libomp.dylib\\n  Referenced from: <04125532-9495-3051-97BC-F23BE76BA2F9> /Library/Frameworks/Python.framework/Versions/3.9/lib/python3.9/site-packages/xgboost/lib/libxgboost.dylib\\n  Reason: tried: '/usr/local/opt/libomp/lib/libomp.dylib' (no such file), '/System/Volumes/Preboot/Cryptexes/OS/usr/local/opt/libomp/lib/libomp.dylib' (no such file), '/usr/local/opt/libomp/lib/libomp.dylib' (no such file), '/System/Volumes/Preboot/Cryptexes/OS/usr/local/opt/libomp/lib/libomp.dylib' (no such file)\"]\n"
     ]
    }
   ],
   "source": [
    "import pandas as pd\n",
    "import numpy as np\n",
    "import xgboost as xgb\n",
    "from xgboost.sklearn import XGBClassifier\n",
    "from sklearn import model_selection, metrics\n",
    "from sklearn.model_selection import GridSearchCV\n",
    "\n",
    "import matplotlib.pylab as plt\n",
    "%matplotlib inline\n",
    "from matplotlib.pylab import rcParams\n",
    "rcParams['figure.figsize'] = 12, 4"
   ]
  },
  {
   "cell_type": "markdown",
   "metadata": {},
   "source": [
    "## 载入数据\n",
    "\n",
    "上一个ipython notebook已经做了下面这些数据特征预处理\n",
    "1. City因为类别太多丢掉\n",
    "2. DOB生成Age字段，然后丢掉原字段\n",
    "3. EMI_Loan_Submitted_Missing 为1(EMI_Loan_Submitted) 为0(EMI_Loan_Submitted缺省) EMI_Loan_Submitted丢掉\n",
    "4. EmployerName丢掉\n",
    "5. Existing_EMI对缺省值用均值填充\n",
    "6. Interest_Rate_Missing同 EMI_Loan_Submitted\n",
    "7. Lead_Creation_Date丢掉\n",
    "8. Loan_Amount_Applied, Loan_Tenure_Applied 均值填充\n",
    "9. Loan_Amount_Submitted_Missing 同 EMI_Loan_Submitted \n",
    "10. Loan_Tenure_Submitted_Missing 同 EMI_Loan_Submitted\n",
    "11. LoggedIn, Salary_Account 丢掉\n",
    "12. Processing_Fee_Missing 同 EMI_Loan_Submitted\n",
    "13. Source - top 2 kept as is and all others combined into different category\n",
    "14. Numerical变化 和 One-Hot编码"
   ]
  },
  {
   "cell_type": "code",
   "execution_count": 5,
   "metadata": {
    "collapsed": false
   },
   "outputs": [],
   "source": [
    "train = pd.read_csv('train_modified.csv')\n",
    "test = pd.read_csv('test_modified.csv')"
   ]
  },
  {
   "cell_type": "code",
   "execution_count": 6,
   "metadata": {
    "collapsed": false
   },
   "outputs": [
    {
     "data": {
      "text/plain": [
       "((87020, 51), (37717, 50))"
      ]
     },
     "execution_count": 6,
     "metadata": {},
     "output_type": "execute_result"
    }
   ],
   "source": [
    "train.shape, test.shape"
   ]
  },
  {
   "cell_type": "code",
   "execution_count": 7,
   "metadata": {
    "collapsed": true
   },
   "outputs": [],
   "source": [
    "target='Disbursed'\n",
    "IDcol = 'ID'"
   ]
  },
  {
   "cell_type": "code",
   "execution_count": 26,
   "metadata": {
    "collapsed": false,
    "scrolled": false
   },
   "outputs": [
    {
     "data": {
      "text/plain": [
       "Disbursed\n",
       "0.0    85747\n",
       "1.0     1273\n",
       "Name: count, dtype: int64"
      ]
     },
     "execution_count": 26,
     "metadata": {},
     "output_type": "execute_result"
    }
   ],
   "source": [
    "train['Disbursed'].value_counts()"
   ]
  },
  {
   "cell_type": "markdown",
   "metadata": {},
   "source": [
    "## 建模与交叉验证\n",
    "\n",
    "写一个大的函数完成以下的功能\n",
    "1. 数据建模\n",
    "2. 求训练准确率\n",
    "3. 求训练集AUC\n",
    "4. 根据xgboost交叉验证更新n_estimators\n",
    "5. 画出特征的重要度 "
   ]
  },
  {
   "cell_type": "code",
   "execution_count": 24,
   "metadata": {
    "collapsed": false
   },
   "outputs": [],
   "source": [
    "#test_results = pd.read_csv('test_results.csv')\n",
    "def modelfit(alg, dtrain, dtest, predictors, target, useTrainCV=True, cv_folds=5, early_stopping_rounds=50):\n",
    "    if useTrainCV:\n",
    "        xgb_param = alg.get_xgb_params()\n",
    "        xgtrain = xgb.DMatrix(dtrain[predictors], label=dtrain[target])\n",
    "        \n",
    "        # 使用 xgboost.cv 进行交叉验证\n",
    "        cvresult = xgb.cv(\n",
    "            xgb_param, \n",
    "            xgtrain, \n",
    "            num_boost_round=alg.get_params()['n_estimators'], \n",
    "            nfold=cv_folds,\n",
    "            metrics='auc', \n",
    "            early_stopping_rounds=early_stopping_rounds, \n",
    "            verbose_eval=True\n",
    "        )\n",
    "        \n",
    "        alg.set_params(n_estimators=cvresult.shape[0])\n",
    "\n",
    "    # 在数据上拟合算法，使用 eval_set 来设置评估指标\n",
    "    alg.fit(\n",
    "        dtrain[predictors], \n",
    "        dtrain[target],\n",
    "        eval_set=[(dtrain[predictors], dtrain[target]), (dtest[predictors], dtest[target])],\n",
    "        eval_metric='auc',\n",
    "        early_stopping_rounds=early_stopping_rounds,\n",
    "        verbose=True\n",
    "    )\n",
    "    \n",
    "    # 预测训练集\n",
    "    dtrain_predictions = alg.predict(dtrain[predictors])\n",
    "    dtrain_predprob = alg.predict_proba(dtrain[predictors])[:,1]\n",
    "    \n",
    "    # 输出模型报告\n",
    "    print(\"\\n关于现在这个模型\")\n",
    "    print(\"准确率 : %.4g\" % metrics.accuracy_score(dtrain[target].values, dtrain_predictions))\n",
    "    print(\"AUC 得分 (训练集): %f\" % metrics.roc_auc_score(dtrain[target], dtrain_predprob))\n",
    "    \n",
    "    # 特征重要性图\n",
    "    feat_imp = pd.Series(alg.get_booster().get_score(importance_type='weight')).sort_values(ascending=False)\n",
    "    feat_imp.plot(kind='bar', title='Feature Importances')\n",
    "    plt.ylabel('Feature Importance Score')\n",
    "    plt.show()\n"
   ]
  },
  {
   "cell_type": "markdown",
   "metadata": {},
   "source": [
    "## 第1步- 对于高的学习率找到最合适的estimators个数"
   ]
  },
  {
   "cell_type": "code",
   "execution_count": 32,
   "metadata": {
    "collapsed": false
   },
   "outputs": [
    {
     "name": "stdout",
     "output_type": "stream",
     "text": [
      "[0]\ttrain-auc:0.82438+0.00375\ttest-auc:0.80878+0.01101\n",
      "[1]\ttrain-auc:0.83198+0.00418\ttest-auc:0.81575+0.01440\n",
      "[2]\ttrain-auc:0.84031+0.00474\ttest-auc:0.82085+0.01180\n",
      "[3]\ttrain-auc:0.84472+0.00346\ttest-auc:0.82312+0.01552\n",
      "[4]\ttrain-auc:0.84500+0.00304\ttest-auc:0.82334+0.01533\n",
      "[5]\ttrain-auc:0.84548+0.00300\ttest-auc:0.82273+0.01543\n",
      "[6]\ttrain-auc:0.84673+0.00364\ttest-auc:0.82309+0.01552\n",
      "[7]\ttrain-auc:0.84768+0.00333\ttest-auc:0.82347+0.01482\n",
      "[8]\ttrain-auc:0.84830+0.00323\ttest-auc:0.82412+0.01530\n",
      "[9]\ttrain-auc:0.84923+0.00314\ttest-auc:0.82421+0.01506\n",
      "[10]\ttrain-auc:0.84982+0.00328\ttest-auc:0.82433+0.01516\n",
      "[11]\ttrain-auc:0.85096+0.00346\ttest-auc:0.82458+0.01558\n",
      "[12]\ttrain-auc:0.85157+0.00332\ttest-auc:0.82504+0.01528\n",
      "[13]\ttrain-auc:0.85296+0.00321\ttest-auc:0.82667+0.01512\n",
      "[14]\ttrain-auc:0.85441+0.00332\ttest-auc:0.82723+0.01568\n",
      "[15]\ttrain-auc:0.85501+0.00351\ttest-auc:0.82715+0.01514\n",
      "[16]\ttrain-auc:0.85584+0.00373\ttest-auc:0.82721+0.01518\n",
      "[17]\ttrain-auc:0.85672+0.00355\ttest-auc:0.82799+0.01562\n",
      "[18]\ttrain-auc:0.85756+0.00317\ttest-auc:0.82799+0.01546\n",
      "[19]\ttrain-auc:0.85846+0.00301\ttest-auc:0.82797+0.01540\n",
      "[20]\ttrain-auc:0.85905+0.00321\ttest-auc:0.82851+0.01555\n",
      "[21]\ttrain-auc:0.85995+0.00311\ttest-auc:0.82825+0.01611\n",
      "[22]\ttrain-auc:0.86059+0.00304\ttest-auc:0.82902+0.01591\n",
      "[23]\ttrain-auc:0.86130+0.00299\ttest-auc:0.82956+0.01629\n",
      "[24]\ttrain-auc:0.86210+0.00276\ttest-auc:0.83018+0.01636\n",
      "[25]\ttrain-auc:0.86270+0.00326\ttest-auc:0.83078+0.01559\n",
      "[26]\ttrain-auc:0.86338+0.00348\ttest-auc:0.83090+0.01558\n",
      "[27]\ttrain-auc:0.86412+0.00327\ttest-auc:0.83173+0.01576\n",
      "[28]\ttrain-auc:0.86477+0.00319\ttest-auc:0.83218+0.01580\n",
      "[29]\ttrain-auc:0.86550+0.00315\ttest-auc:0.83271+0.01583\n",
      "[30]\ttrain-auc:0.86590+0.00315\ttest-auc:0.83302+0.01559\n",
      "[31]\ttrain-auc:0.86635+0.00294\ttest-auc:0.83288+0.01543\n",
      "[32]\ttrain-auc:0.86682+0.00286\ttest-auc:0.83333+0.01532\n",
      "[33]\ttrain-auc:0.86729+0.00294\ttest-auc:0.83344+0.01546\n",
      "[34]\ttrain-auc:0.86766+0.00281\ttest-auc:0.83373+0.01543\n",
      "[35]\ttrain-auc:0.86819+0.00280\ttest-auc:0.83429+0.01545\n",
      "[36]\ttrain-auc:0.86921+0.00254\ttest-auc:0.83444+0.01559\n",
      "[37]\ttrain-auc:0.86954+0.00268\ttest-auc:0.83474+0.01554\n",
      "[38]\ttrain-auc:0.87000+0.00269\ttest-auc:0.83523+0.01532\n",
      "[39]\ttrain-auc:0.87043+0.00266\ttest-auc:0.83561+0.01547\n",
      "[40]\ttrain-auc:0.87089+0.00264\ttest-auc:0.83619+0.01538\n",
      "[41]\ttrain-auc:0.87127+0.00269\ttest-auc:0.83631+0.01548\n",
      "[42]\ttrain-auc:0.87213+0.00268\ttest-auc:0.83670+0.01569\n",
      "[43]\ttrain-auc:0.87251+0.00266\ttest-auc:0.83689+0.01574\n",
      "[44]\ttrain-auc:0.87333+0.00293\ttest-auc:0.83761+0.01536\n",
      "[45]\ttrain-auc:0.87464+0.00280\ttest-auc:0.83821+0.01528\n",
      "[46]\ttrain-auc:0.87492+0.00286\ttest-auc:0.83853+0.01526\n",
      "[47]\ttrain-auc:0.87540+0.00269\ttest-auc:0.83885+0.01529\n",
      "[48]\ttrain-auc:0.87555+0.00277\ttest-auc:0.83902+0.01516\n",
      "[49]\ttrain-auc:0.87606+0.00280\ttest-auc:0.83924+0.01527\n",
      "[50]\ttrain-auc:0.87643+0.00270\ttest-auc:0.83940+0.01518\n",
      "[51]\ttrain-auc:0.87699+0.00263\ttest-auc:0.83929+0.01516\n",
      "[52]\ttrain-auc:0.87725+0.00265\ttest-auc:0.83954+0.01514\n",
      "[53]\ttrain-auc:0.87769+0.00255\ttest-auc:0.83960+0.01536\n",
      "[54]\ttrain-auc:0.87848+0.00251\ttest-auc:0.83942+0.01495\n",
      "[55]\ttrain-auc:0.87887+0.00262\ttest-auc:0.83947+0.01482\n",
      "[56]\ttrain-auc:0.87943+0.00267\ttest-auc:0.83968+0.01483\n",
      "[57]\ttrain-auc:0.87994+0.00238\ttest-auc:0.84043+0.01491\n",
      "[58]\ttrain-auc:0.88037+0.00260\ttest-auc:0.84084+0.01485\n",
      "[59]\ttrain-auc:0.88056+0.00262\ttest-auc:0.84094+0.01479\n",
      "[60]\ttrain-auc:0.88106+0.00253\ttest-auc:0.84115+0.01437\n",
      "[61]\ttrain-auc:0.88168+0.00261\ttest-auc:0.84114+0.01442\n",
      "[62]\ttrain-auc:0.88201+0.00271\ttest-auc:0.84133+0.01418\n",
      "[63]\ttrain-auc:0.88238+0.00270\ttest-auc:0.84149+0.01406\n",
      "[64]\ttrain-auc:0.88282+0.00257\ttest-auc:0.84160+0.01407\n",
      "[65]\ttrain-auc:0.88310+0.00246\ttest-auc:0.84184+0.01417\n",
      "[66]\ttrain-auc:0.88362+0.00264\ttest-auc:0.84220+0.01374\n",
      "[67]\ttrain-auc:0.88403+0.00276\ttest-auc:0.84235+0.01384\n",
      "[68]\ttrain-auc:0.88432+0.00266\ttest-auc:0.84255+0.01371\n",
      "[69]\ttrain-auc:0.88459+0.00278\ttest-auc:0.84263+0.01369\n",
      "[70]\ttrain-auc:0.88493+0.00280\ttest-auc:0.84294+0.01361\n",
      "[71]\ttrain-auc:0.88531+0.00274\ttest-auc:0.84311+0.01354\n",
      "[72]\ttrain-auc:0.88571+0.00259\ttest-auc:0.84314+0.01372\n",
      "[73]\ttrain-auc:0.88622+0.00250\ttest-auc:0.84335+0.01380\n",
      "[74]\ttrain-auc:0.88643+0.00261\ttest-auc:0.84345+0.01374\n",
      "[75]\ttrain-auc:0.88690+0.00255\ttest-auc:0.84332+0.01387\n",
      "[76]\ttrain-auc:0.88737+0.00228\ttest-auc:0.84339+0.01378\n",
      "[77]\ttrain-auc:0.88797+0.00235\ttest-auc:0.84352+0.01383\n",
      "[78]\ttrain-auc:0.88834+0.00250\ttest-auc:0.84359+0.01389\n",
      "[79]\ttrain-auc:0.88885+0.00224\ttest-auc:0.84367+0.01382\n",
      "[80]\ttrain-auc:0.88910+0.00219\ttest-auc:0.84372+0.01374\n",
      "[81]\ttrain-auc:0.88934+0.00215\ttest-auc:0.84360+0.01361\n",
      "[82]\ttrain-auc:0.88974+0.00211\ttest-auc:0.84376+0.01349\n",
      "[83]\ttrain-auc:0.88996+0.00209\ttest-auc:0.84369+0.01337\n",
      "[84]\ttrain-auc:0.89050+0.00184\ttest-auc:0.84359+0.01335\n",
      "[85]\ttrain-auc:0.89073+0.00183\ttest-auc:0.84366+0.01320\n",
      "[86]\ttrain-auc:0.89133+0.00187\ttest-auc:0.84378+0.01334\n",
      "[87]\ttrain-auc:0.89181+0.00221\ttest-auc:0.84396+0.01327\n",
      "[88]\ttrain-auc:0.89229+0.00213\ttest-auc:0.84421+0.01333\n",
      "[89]\ttrain-auc:0.89258+0.00214\ttest-auc:0.84411+0.01338\n",
      "[90]\ttrain-auc:0.89298+0.00207\ttest-auc:0.84429+0.01335\n",
      "[91]\ttrain-auc:0.89327+0.00204\ttest-auc:0.84450+0.01338\n",
      "[92]\ttrain-auc:0.89379+0.00203\ttest-auc:0.84445+0.01343\n",
      "[93]\ttrain-auc:0.89414+0.00205\ttest-auc:0.84440+0.01348\n",
      "[94]\ttrain-auc:0.89465+0.00214\ttest-auc:0.84445+0.01340\n",
      "[95]\ttrain-auc:0.89490+0.00226\ttest-auc:0.84439+0.01340\n",
      "[96]\ttrain-auc:0.89543+0.00237\ttest-auc:0.84456+0.01330\n",
      "[97]\ttrain-auc:0.89569+0.00235\ttest-auc:0.84461+0.01323\n",
      "[98]\ttrain-auc:0.89629+0.00261\ttest-auc:0.84470+0.01295\n",
      "[99]\ttrain-auc:0.89668+0.00255\ttest-auc:0.84466+0.01296\n",
      "[100]\ttrain-auc:0.89697+0.00237\ttest-auc:0.84463+0.01294\n",
      "[101]\ttrain-auc:0.89736+0.00225\ttest-auc:0.84467+0.01290\n",
      "[102]\ttrain-auc:0.89791+0.00193\ttest-auc:0.84484+0.01305\n",
      "[103]\ttrain-auc:0.89856+0.00197\ttest-auc:0.84497+0.01309\n",
      "[104]\ttrain-auc:0.89910+0.00191\ttest-auc:0.84485+0.01320\n",
      "[105]\ttrain-auc:0.89952+0.00201\ttest-auc:0.84490+0.01316\n",
      "[106]\ttrain-auc:0.89998+0.00199\ttest-auc:0.84482+0.01321\n",
      "[107]\ttrain-auc:0.90032+0.00204\ttest-auc:0.84494+0.01326\n",
      "[108]\ttrain-auc:0.90100+0.00207\ttest-auc:0.84499+0.01317\n",
      "[109]\ttrain-auc:0.90121+0.00226\ttest-auc:0.84486+0.01341\n",
      "[110]\ttrain-auc:0.90162+0.00233\ttest-auc:0.84478+0.01335\n",
      "[111]\ttrain-auc:0.90209+0.00244\ttest-auc:0.84503+0.01337\n",
      "[112]\ttrain-auc:0.90257+0.00228\ttest-auc:0.84503+0.01332\n",
      "[113]\ttrain-auc:0.90302+0.00242\ttest-auc:0.84487+0.01340\n",
      "[114]\ttrain-auc:0.90343+0.00245\ttest-auc:0.84485+0.01332\n",
      "[115]\ttrain-auc:0.90399+0.00233\ttest-auc:0.84491+0.01341\n",
      "[116]\ttrain-auc:0.90417+0.00235\ttest-auc:0.84500+0.01337\n",
      "[117]\ttrain-auc:0.90449+0.00262\ttest-auc:0.84505+0.01328\n",
      "[118]\ttrain-auc:0.90479+0.00262\ttest-auc:0.84519+0.01317\n",
      "[119]\ttrain-auc:0.90508+0.00258\ttest-auc:0.84529+0.01313\n",
      "[120]\ttrain-auc:0.90544+0.00258\ttest-auc:0.84538+0.01328\n",
      "[121]\ttrain-auc:0.90585+0.00265\ttest-auc:0.84544+0.01325\n",
      "[122]\ttrain-auc:0.90608+0.00265\ttest-auc:0.84535+0.01324\n",
      "[123]\ttrain-auc:0.90649+0.00268\ttest-auc:0.84540+0.01330\n",
      "[124]\ttrain-auc:0.90682+0.00260\ttest-auc:0.84539+0.01322\n",
      "[125]\ttrain-auc:0.90734+0.00257\ttest-auc:0.84520+0.01332\n",
      "[126]\ttrain-auc:0.90777+0.00247\ttest-auc:0.84525+0.01320\n",
      "[127]\ttrain-auc:0.90813+0.00263\ttest-auc:0.84524+0.01306\n",
      "[128]\ttrain-auc:0.90835+0.00263\ttest-auc:0.84523+0.01295\n",
      "[129]\ttrain-auc:0.90860+0.00277\ttest-auc:0.84509+0.01296\n",
      "[130]\ttrain-auc:0.90887+0.00293\ttest-auc:0.84512+0.01298\n",
      "[131]\ttrain-auc:0.90925+0.00300\ttest-auc:0.84534+0.01289\n",
      "[132]\ttrain-auc:0.90969+0.00305\ttest-auc:0.84535+0.01296\n",
      "[133]\ttrain-auc:0.91008+0.00303\ttest-auc:0.84525+0.01278\n",
      "[134]\ttrain-auc:0.91056+0.00315\ttest-auc:0.84519+0.01291\n",
      "[135]\ttrain-auc:0.91087+0.00313\ttest-auc:0.84524+0.01285\n",
      "[136]\ttrain-auc:0.91111+0.00334\ttest-auc:0.84523+0.01281\n",
      "[137]\ttrain-auc:0.91135+0.00328\ttest-auc:0.84525+0.01275\n",
      "[138]\ttrain-auc:0.91158+0.00319\ttest-auc:0.84541+0.01262\n",
      "[139]\ttrain-auc:0.91192+0.00321\ttest-auc:0.84547+0.01255\n",
      "[140]\ttrain-auc:0.91220+0.00332\ttest-auc:0.84536+0.01254\n",
      "[141]\ttrain-auc:0.91243+0.00321\ttest-auc:0.84526+0.01236\n",
      "[142]\ttrain-auc:0.91285+0.00318\ttest-auc:0.84527+0.01251\n",
      "[143]\ttrain-auc:0.91320+0.00317\ttest-auc:0.84518+0.01251\n",
      "[144]\ttrain-auc:0.91348+0.00307\ttest-auc:0.84537+0.01237\n",
      "[145]\ttrain-auc:0.91377+0.00310\ttest-auc:0.84539+0.01242\n",
      "[146]\ttrain-auc:0.91415+0.00315\ttest-auc:0.84552+0.01219\n",
      "[147]\ttrain-auc:0.91450+0.00314\ttest-auc:0.84532+0.01221\n",
      "[148]\ttrain-auc:0.91475+0.00306\ttest-auc:0.84540+0.01213\n",
      "[149]\ttrain-auc:0.91502+0.00302\ttest-auc:0.84529+0.01195\n",
      "[150]\ttrain-auc:0.91535+0.00299\ttest-auc:0.84519+0.01204\n",
      "[151]\ttrain-auc:0.91559+0.00300\ttest-auc:0.84514+0.01197\n",
      "[152]\ttrain-auc:0.91588+0.00302\ttest-auc:0.84520+0.01182\n",
      "[153]\ttrain-auc:0.91627+0.00288\ttest-auc:0.84513+0.01175\n",
      "[154]\ttrain-auc:0.91664+0.00281\ttest-auc:0.84506+0.01178\n",
      "[155]\ttrain-auc:0.91698+0.00274\ttest-auc:0.84498+0.01176\n",
      "[156]\ttrain-auc:0.91739+0.00278\ttest-auc:0.84488+0.01167\n",
      "[157]\ttrain-auc:0.91766+0.00288\ttest-auc:0.84482+0.01148\n",
      "[158]\ttrain-auc:0.91789+0.00275\ttest-auc:0.84478+0.01135\n",
      "[159]\ttrain-auc:0.91810+0.00271\ttest-auc:0.84476+0.01130\n",
      "[160]\ttrain-auc:0.91822+0.00288\ttest-auc:0.84475+0.01144\n",
      "[161]\ttrain-auc:0.91841+0.00284\ttest-auc:0.84476+0.01144\n",
      "[162]\ttrain-auc:0.91861+0.00275\ttest-auc:0.84480+0.01137\n",
      "[163]\ttrain-auc:0.91892+0.00284\ttest-auc:0.84470+0.01157\n",
      "[164]\ttrain-auc:0.91920+0.00289\ttest-auc:0.84467+0.01146\n",
      "[165]\ttrain-auc:0.91944+0.00296\ttest-auc:0.84443+0.01154\n",
      "[166]\ttrain-auc:0.91984+0.00314\ttest-auc:0.84428+0.01163\n",
      "[167]\ttrain-auc:0.92001+0.00319\ttest-auc:0.84425+0.01160\n",
      "[168]\ttrain-auc:0.92033+0.00335\ttest-auc:0.84413+0.01157\n",
      "[169]\ttrain-auc:0.92065+0.00328\ttest-auc:0.84395+0.01157\n",
      "[170]\ttrain-auc:0.92090+0.00332\ttest-auc:0.84401+0.01154\n",
      "[171]\ttrain-auc:0.92112+0.00332\ttest-auc:0.84428+0.01160\n",
      "[172]\ttrain-auc:0.92150+0.00324\ttest-auc:0.84434+0.01164\n",
      "[173]\ttrain-auc:0.92172+0.00325\ttest-auc:0.84430+0.01155\n",
      "[174]\ttrain-auc:0.92194+0.00327\ttest-auc:0.84412+0.01153\n",
      "[175]\ttrain-auc:0.92228+0.00330\ttest-auc:0.84417+0.01160\n",
      "[176]\ttrain-auc:0.92247+0.00318\ttest-auc:0.84409+0.01155\n",
      "[177]\ttrain-auc:0.92286+0.00327\ttest-auc:0.84392+0.01169\n",
      "[178]\ttrain-auc:0.92317+0.00316\ttest-auc:0.84391+0.01185\n",
      "[179]\ttrain-auc:0.92346+0.00321\ttest-auc:0.84397+0.01176\n",
      "[180]\ttrain-auc:0.92374+0.00327\ttest-auc:0.84393+0.01155\n",
      "[181]\ttrain-auc:0.92413+0.00348\ttest-auc:0.84391+0.01152\n",
      "[182]\ttrain-auc:0.92437+0.00348\ttest-auc:0.84393+0.01152\n",
      "[183]\ttrain-auc:0.92472+0.00342\ttest-auc:0.84398+0.01140\n",
      "[184]\ttrain-auc:0.92501+0.00343\ttest-auc:0.84374+0.01146\n",
      "[185]\ttrain-auc:0.92526+0.00342\ttest-auc:0.84381+0.01142\n",
      "[186]\ttrain-auc:0.92541+0.00348\ttest-auc:0.84372+0.01156\n",
      "[187]\ttrain-auc:0.92573+0.00353\ttest-auc:0.84357+0.01161\n",
      "[188]\ttrain-auc:0.92595+0.00349\ttest-auc:0.84371+0.01170\n",
      "[189]\ttrain-auc:0.92623+0.00343\ttest-auc:0.84376+0.01157\n",
      "[190]\ttrain-auc:0.92645+0.00340\ttest-auc:0.84375+0.01155\n",
      "[191]\ttrain-auc:0.92667+0.00345\ttest-auc:0.84368+0.01149\n",
      "[192]\ttrain-auc:0.92693+0.00346\ttest-auc:0.84351+0.01151\n",
      "[193]\ttrain-auc:0.92719+0.00341\ttest-auc:0.84343+0.01155\n",
      "[194]\ttrain-auc:0.92758+0.00341\ttest-auc:0.84312+0.01152\n",
      "[195]\ttrain-auc:0.92782+0.00341\ttest-auc:0.84310+0.01164\n",
      "[196]\ttrain-auc:0.92809+0.00334\ttest-auc:0.84300+0.01147\n"
     ]
    },
    {
     "ename": "KeyError",
     "evalue": "'Disbursed'",
     "output_type": "error",
     "traceback": [
      "\u001b[1;31m---------------------------------------------------------------------------\u001b[0m",
      "\u001b[1;31mKeyError\u001b[0m                                  Traceback (most recent call last)",
      "File \u001b[1;32mc:\\Users\\chenf\\AppData\\Local\\Programs\\Python\\Python310\\lib\\site-packages\\pandas\\core\\indexes\\base.py:3805\u001b[0m, in \u001b[0;36mIndex.get_loc\u001b[1;34m(self, key)\u001b[0m\n\u001b[0;32m   3804\u001b[0m \u001b[38;5;28;01mtry\u001b[39;00m:\n\u001b[1;32m-> 3805\u001b[0m     \u001b[38;5;28;01mreturn\u001b[39;00m \u001b[38;5;28;43mself\u001b[39;49m\u001b[38;5;241;43m.\u001b[39;49m\u001b[43m_engine\u001b[49m\u001b[38;5;241;43m.\u001b[39;49m\u001b[43mget_loc\u001b[49m\u001b[43m(\u001b[49m\u001b[43mcasted_key\u001b[49m\u001b[43m)\u001b[49m\n\u001b[0;32m   3806\u001b[0m \u001b[38;5;28;01mexcept\u001b[39;00m \u001b[38;5;167;01mKeyError\u001b[39;00m \u001b[38;5;28;01mas\u001b[39;00m err:\n",
      "File \u001b[1;32mindex.pyx:167\u001b[0m, in \u001b[0;36mpandas._libs.index.IndexEngine.get_loc\u001b[1;34m()\u001b[0m\n",
      "File \u001b[1;32mindex.pyx:196\u001b[0m, in \u001b[0;36mpandas._libs.index.IndexEngine.get_loc\u001b[1;34m()\u001b[0m\n",
      "File \u001b[1;32mpandas\\\\_libs\\\\hashtable_class_helper.pxi:7081\u001b[0m, in \u001b[0;36mpandas._libs.hashtable.PyObjectHashTable.get_item\u001b[1;34m()\u001b[0m\n",
      "File \u001b[1;32mpandas\\\\_libs\\\\hashtable_class_helper.pxi:7089\u001b[0m, in \u001b[0;36mpandas._libs.hashtable.PyObjectHashTable.get_item\u001b[1;34m()\u001b[0m\n",
      "\u001b[1;31mKeyError\u001b[0m: 'Disbursed'",
      "\nThe above exception was the direct cause of the following exception:\n",
      "\u001b[1;31mKeyError\u001b[0m                                  Traceback (most recent call last)",
      "Cell \u001b[1;32mIn[32], line 14\u001b[0m\n\u001b[0;32m      1\u001b[0m predictors \u001b[38;5;241m=\u001b[39m [x \u001b[38;5;28;01mfor\u001b[39;00m x \u001b[38;5;129;01min\u001b[39;00m train\u001b[38;5;241m.\u001b[39mcolumns \u001b[38;5;28;01mif\u001b[39;00m x \u001b[38;5;129;01mnot\u001b[39;00m \u001b[38;5;129;01min\u001b[39;00m [target, IDcol]]\n\u001b[0;32m      2\u001b[0m xgb1 \u001b[38;5;241m=\u001b[39m XGBClassifier(\n\u001b[0;32m      3\u001b[0m         learning_rate \u001b[38;5;241m=\u001b[39m\u001b[38;5;241m0.1\u001b[39m,\n\u001b[0;32m      4\u001b[0m         n_estimators\u001b[38;5;241m=\u001b[39m\u001b[38;5;241m1000\u001b[39m,\n\u001b[1;32m   (...)\u001b[0m\n\u001b[0;32m     12\u001b[0m         scale_pos_weight\u001b[38;5;241m=\u001b[39m\u001b[38;5;241m1\u001b[39m,\n\u001b[0;32m     13\u001b[0m         seed\u001b[38;5;241m=\u001b[39m\u001b[38;5;241m27\u001b[39m)\n\u001b[1;32m---> 14\u001b[0m \u001b[43mmodelfit\u001b[49m\u001b[43m(\u001b[49m\u001b[43mxgb1\u001b[49m\u001b[43m,\u001b[49m\u001b[43m \u001b[49m\u001b[43mtrain\u001b[49m\u001b[43m,\u001b[49m\u001b[43m \u001b[49m\u001b[43mtest\u001b[49m\u001b[43m,\u001b[49m\u001b[43m \u001b[49m\u001b[43mpredictors\u001b[49m\u001b[43m)\u001b[49m\n",
      "Cell \u001b[1;32mIn[24], line 24\u001b[0m, in \u001b[0;36mmodelfit\u001b[1;34m(alg, dtrain, dtest, predictors, useTrainCV, cv_folds, early_stopping_rounds)\u001b[0m\n\u001b[0;32m     18\u001b[0m     alg\u001b[38;5;241m.\u001b[39mset_params(n_estimators\u001b[38;5;241m=\u001b[39mcvresult\u001b[38;5;241m.\u001b[39mshape[\u001b[38;5;241m0\u001b[39m])\n\u001b[0;32m     20\u001b[0m \u001b[38;5;66;03m# 在数据上拟合算法，使用 eval_set 来设置评估指标\u001b[39;00m\n\u001b[0;32m     21\u001b[0m alg\u001b[38;5;241m.\u001b[39mfit(\n\u001b[0;32m     22\u001b[0m     dtrain[predictors], \n\u001b[0;32m     23\u001b[0m     dtrain[target],\n\u001b[1;32m---> 24\u001b[0m     eval_set\u001b[38;5;241m=\u001b[39m[(dtrain[predictors], dtrain[target]), (dtest[predictors], \u001b[43mdtest\u001b[49m\u001b[43m[\u001b[49m\u001b[43mtarget\u001b[49m\u001b[43m]\u001b[49m)],\n\u001b[0;32m     25\u001b[0m     eval_metric\u001b[38;5;241m=\u001b[39m\u001b[38;5;124m'\u001b[39m\u001b[38;5;124mauc\u001b[39m\u001b[38;5;124m'\u001b[39m,\n\u001b[0;32m     26\u001b[0m     early_stopping_rounds\u001b[38;5;241m=\u001b[39mearly_stopping_rounds,\n\u001b[0;32m     27\u001b[0m     verbose\u001b[38;5;241m=\u001b[39m\u001b[38;5;28;01mTrue\u001b[39;00m\n\u001b[0;32m     28\u001b[0m )\n\u001b[0;32m     30\u001b[0m \u001b[38;5;66;03m# 预测训练集\u001b[39;00m\n\u001b[0;32m     31\u001b[0m dtrain_predictions \u001b[38;5;241m=\u001b[39m alg\u001b[38;5;241m.\u001b[39mpredict(dtrain[predictors])\n",
      "File \u001b[1;32mc:\\Users\\chenf\\AppData\\Local\\Programs\\Python\\Python310\\lib\\site-packages\\pandas\\core\\frame.py:4102\u001b[0m, in \u001b[0;36mDataFrame.__getitem__\u001b[1;34m(self, key)\u001b[0m\n\u001b[0;32m   4100\u001b[0m \u001b[38;5;28;01mif\u001b[39;00m \u001b[38;5;28mself\u001b[39m\u001b[38;5;241m.\u001b[39mcolumns\u001b[38;5;241m.\u001b[39mnlevels \u001b[38;5;241m>\u001b[39m \u001b[38;5;241m1\u001b[39m:\n\u001b[0;32m   4101\u001b[0m     \u001b[38;5;28;01mreturn\u001b[39;00m \u001b[38;5;28mself\u001b[39m\u001b[38;5;241m.\u001b[39m_getitem_multilevel(key)\n\u001b[1;32m-> 4102\u001b[0m indexer \u001b[38;5;241m=\u001b[39m \u001b[38;5;28;43mself\u001b[39;49m\u001b[38;5;241;43m.\u001b[39;49m\u001b[43mcolumns\u001b[49m\u001b[38;5;241;43m.\u001b[39;49m\u001b[43mget_loc\u001b[49m\u001b[43m(\u001b[49m\u001b[43mkey\u001b[49m\u001b[43m)\u001b[49m\n\u001b[0;32m   4103\u001b[0m \u001b[38;5;28;01mif\u001b[39;00m is_integer(indexer):\n\u001b[0;32m   4104\u001b[0m     indexer \u001b[38;5;241m=\u001b[39m [indexer]\n",
      "File \u001b[1;32mc:\\Users\\chenf\\AppData\\Local\\Programs\\Python\\Python310\\lib\\site-packages\\pandas\\core\\indexes\\base.py:3812\u001b[0m, in \u001b[0;36mIndex.get_loc\u001b[1;34m(self, key)\u001b[0m\n\u001b[0;32m   3807\u001b[0m     \u001b[38;5;28;01mif\u001b[39;00m \u001b[38;5;28misinstance\u001b[39m(casted_key, \u001b[38;5;28mslice\u001b[39m) \u001b[38;5;129;01mor\u001b[39;00m (\n\u001b[0;32m   3808\u001b[0m         \u001b[38;5;28misinstance\u001b[39m(casted_key, abc\u001b[38;5;241m.\u001b[39mIterable)\n\u001b[0;32m   3809\u001b[0m         \u001b[38;5;129;01mand\u001b[39;00m \u001b[38;5;28many\u001b[39m(\u001b[38;5;28misinstance\u001b[39m(x, \u001b[38;5;28mslice\u001b[39m) \u001b[38;5;28;01mfor\u001b[39;00m x \u001b[38;5;129;01min\u001b[39;00m casted_key)\n\u001b[0;32m   3810\u001b[0m     ):\n\u001b[0;32m   3811\u001b[0m         \u001b[38;5;28;01mraise\u001b[39;00m InvalidIndexError(key)\n\u001b[1;32m-> 3812\u001b[0m     \u001b[38;5;28;01mraise\u001b[39;00m \u001b[38;5;167;01mKeyError\u001b[39;00m(key) \u001b[38;5;28;01mfrom\u001b[39;00m \u001b[38;5;21;01merr\u001b[39;00m\n\u001b[0;32m   3813\u001b[0m \u001b[38;5;28;01mexcept\u001b[39;00m \u001b[38;5;167;01mTypeError\u001b[39;00m:\n\u001b[0;32m   3814\u001b[0m     \u001b[38;5;66;03m# If we have a listlike key, _check_indexing_error will raise\u001b[39;00m\n\u001b[0;32m   3815\u001b[0m     \u001b[38;5;66;03m#  InvalidIndexError. Otherwise we fall through and re-raise\u001b[39;00m\n\u001b[0;32m   3816\u001b[0m     \u001b[38;5;66;03m#  the TypeError.\u001b[39;00m\n\u001b[0;32m   3817\u001b[0m     \u001b[38;5;28mself\u001b[39m\u001b[38;5;241m.\u001b[39m_check_indexing_error(key)\n",
      "\u001b[1;31mKeyError\u001b[0m: 'Disbursed'"
     ]
    }
   ],
   "source": [
    "predictors = [x for x in train.columns if x not in [target, IDcol]]\n",
    "xgb1 = XGBClassifier(\n",
    "        learning_rate =0.1,\n",
    "        n_estimators=1000,\n",
    "        max_depth=5,\n",
    "        min_child_weight=1,\n",
    "        gamma=0,\n",
    "        subsample=0.8,\n",
    "        colsample_bytree=0.8,\n",
    "        objective= 'binary:logistic',\n",
    "        nthread=4,\n",
    "        scale_pos_weight=1,\n",
    "        seed=27)\n",
    "modelfit(xgb1, train, test, predictors)\n"
   ]
  },
  {
   "cell_type": "code",
   "execution_count": null,
   "metadata": {
    "collapsed": false
   },
   "outputs": [
    {
     "data": {
      "text/plain": [
       "GridSearchCV(cv=5, error_score='raise',\n",
       "       estimator=XGBClassifier(base_score=0.5, colsample_bylevel=1, colsample_bytree=0.8,\n",
       "       gamma=0, learning_rate=0.1, max_delta_step=0, max_depth=5,\n",
       "       min_child_weight=1, missing=None, n_estimators=140, nthread=4,\n",
       "       objective='binary:logistic', reg_alpha=0, reg_lambda=1,\n",
       "       scale_pos_weight=1, seed=27, silent=True, subsample=0.8),\n",
       "       fit_params={}, iid=False, n_jobs=4,\n",
       "       param_grid={'max_depth': [3, 5, 7, 9], 'min_child_weight': [1, 3, 5]},\n",
       "       pre_dispatch='2*n_jobs', refit=True, scoring='roc_auc', verbose=0)"
      ]
     },
     "execution_count": 13,
     "metadata": {},
     "output_type": "execute_result"
    }
   ],
   "source": [
    "#对subsample 和 max_features 用grid search查找最好的参数\n",
    "param_test1 = {\n",
    "    'max_depth':range(3,10,2),\n",
    "    'min_child_weight':range(1,6,2)\n",
    "}\n",
    "gsearch1 = GridSearchCV(estimator = XGBClassifier( learning_rate =0.1, n_estimators=140, max_depth=5,\n",
    "                                        min_child_weight=1, gamma=0, subsample=0.8, colsample_bytree=0.8,\n",
    "                                        objective= 'binary:logistic', nthread=4, scale_pos_weight=1, seed=27), \n",
    "                       param_grid = param_test1, scoring='roc_auc',n_jobs=4,iid=False, cv=5)\n",
    "gsearch1.fit(train[predictors],train[target])"
   ]
  },
  {
   "cell_type": "code",
   "execution_count": null,
   "metadata": {
    "collapsed": false
   },
   "outputs": [
    {
     "data": {
      "text/plain": [
       "([mean: 0.83696, std: 0.00991, params: {'max_depth': 3, 'min_child_weight': 1},\n",
       "  mean: 0.83731, std: 0.00891, params: {'max_depth': 3, 'min_child_weight': 3},\n",
       "  mean: 0.83716, std: 0.00873, params: {'max_depth': 3, 'min_child_weight': 5},\n",
       "  mean: 0.84112, std: 0.00685, params: {'max_depth': 5, 'min_child_weight': 1},\n",
       "  mean: 0.83976, std: 0.00742, params: {'max_depth': 5, 'min_child_weight': 3},\n",
       "  mean: 0.83929, std: 0.00722, params: {'max_depth': 5, 'min_child_weight': 5},\n",
       "  mean: 0.83904, std: 0.00615, params: {'max_depth': 7, 'min_child_weight': 1},\n",
       "  mean: 0.83715, std: 0.00612, params: {'max_depth': 7, 'min_child_weight': 3},\n",
       "  mean: 0.83577, std: 0.00521, params: {'max_depth': 7, 'min_child_weight': 5},\n",
       "  mean: 0.82627, std: 0.00555, params: {'max_depth': 9, 'min_child_weight': 1},\n",
       "  mean: 0.82839, std: 0.00681, params: {'max_depth': 9, 'min_child_weight': 3},\n",
       "  mean: 0.83005, std: 0.00563, params: {'max_depth': 9, 'min_child_weight': 5}],\n",
       " {'max_depth': 5, 'min_child_weight': 1},\n",
       " 0.84111682504157304)"
      ]
     },
     "execution_count": 14,
     "metadata": {},
     "output_type": "execute_result"
    }
   ],
   "source": [
    "gsearch1.grid_scores_, gsearch1.best_params_, gsearch1.best_score_"
   ]
  },
  {
   "cell_type": "code",
   "execution_count": null,
   "metadata": {
    "collapsed": false
   },
   "outputs": [
    {
     "data": {
      "text/plain": [
       "GridSearchCV(cv=5, error_score='raise',\n",
       "       estimator=XGBClassifier(base_score=0.5, colsample_bylevel=1, colsample_bytree=0.8,\n",
       "       gamma=0, learning_rate=0.1, max_delta_step=0, max_depth=5,\n",
       "       min_child_weight=2, missing=None, n_estimators=140, nthread=4,\n",
       "       objective='binary:logistic', reg_alpha=0, reg_lambda=1,\n",
       "       scale_pos_weight=1, seed=27, silent=True, subsample=0.8),\n",
       "       fit_params={}, iid=False, n_jobs=4,\n",
       "       param_grid={'max_depth': [4, 5, 6], 'min_child_weight': [4, 5, 6]},\n",
       "       pre_dispatch='2*n_jobs', refit=True, scoring='roc_auc', verbose=0)"
      ]
     },
     "execution_count": 11,
     "metadata": {},
     "output_type": "execute_result"
    }
   ],
   "source": [
    "# 对于max_depth和min_child_weight查找最好的参数\n",
    "param_test2 = {\n",
    "    'max_depth':[4,5,6],\n",
    "    'min_child_weight':[4,5,6]\n",
    "}\n",
    "gsearch2 = GridSearchCV(estimator = XGBClassifier( learning_rate=0.1, n_estimators=140, max_depth=5,\n",
    "                                        min_child_weight=2, gamma=0, subsample=0.8, colsample_bytree=0.8,\n",
    "                                        objective= 'binary:logistic', nthread=4, scale_pos_weight=1,seed=27), \n",
    "                       param_grid = param_test2, scoring='roc_auc',n_jobs=4,iid=False, cv=5)\n",
    "gsearch2.fit(train[predictors],train[target])"
   ]
  },
  {
   "cell_type": "code",
   "execution_count": null,
   "metadata": {
    "collapsed": false
   },
   "outputs": [
    {
     "data": {
      "text/plain": [
       "([mean: 0.84031, std: 0.00658, params: {'max_depth': 4, 'min_child_weight': 4},\n",
       "  mean: 0.84061, std: 0.00700, params: {'max_depth': 4, 'min_child_weight': 5},\n",
       "  mean: 0.84125, std: 0.00723, params: {'max_depth': 4, 'min_child_weight': 6},\n",
       "  mean: 0.83988, std: 0.00612, params: {'max_depth': 5, 'min_child_weight': 4},\n",
       "  mean: 0.84123, std: 0.00619, params: {'max_depth': 5, 'min_child_weight': 5},\n",
       "  mean: 0.83995, std: 0.00591, params: {'max_depth': 5, 'min_child_weight': 6},\n",
       "  mean: 0.83905, std: 0.00635, params: {'max_depth': 6, 'min_child_weight': 4},\n",
       "  mean: 0.83904, std: 0.00656, params: {'max_depth': 6, 'min_child_weight': 5},\n",
       "  mean: 0.83844, std: 0.00682, params: {'max_depth': 6, 'min_child_weight': 6}],\n",
       " {'max_depth': 4, 'min_child_weight': 6},\n",
       " 0.84124915179964577)"
      ]
     },
     "execution_count": 12,
     "metadata": {},
     "output_type": "execute_result"
    }
   ],
   "source": [
    "gsearch2.grid_scores_, gsearch2.best_params_, gsearch2.best_score_"
   ]
  },
  {
   "cell_type": "code",
   "execution_count": null,
   "metadata": {
    "collapsed": false
   },
   "outputs": [
    {
     "data": {
      "text/plain": [
       "GridSearchCV(cv=5, error_score='raise',\n",
       "       estimator=XGBClassifier(base_score=0.5, colsample_bylevel=1, colsample_bytree=0.8,\n",
       "       gamma=0, learning_rate=0.1, max_delta_step=0, max_depth=4,\n",
       "       min_child_weight=2, missing=None, n_estimators=140, nthread=4,\n",
       "       objective='binary:logistic', reg_alpha=0, reg_lambda=1,\n",
       "       scale_pos_weight=1, seed=27, silent=True, subsample=0.8),\n",
       "       fit_params={}, iid=False, n_jobs=4,\n",
       "       param_grid={'min_child_weight': [6, 8, 10, 12]},\n",
       "       pre_dispatch='2*n_jobs', refit=True, scoring='roc_auc', verbose=0)"
      ]
     },
     "execution_count": 13,
     "metadata": {},
     "output_type": "execute_result"
    }
   ],
   "source": [
    "#交叉验证对min_child_weight寻找最合适的参数\n",
    "param_test2b = {\n",
    "    'min_child_weight':[6,8,10,12]\n",
    "}\n",
    "gsearch2b = GridSearchCV(estimator = XGBClassifier( learning_rate=0.1, n_estimators=140, max_depth=4,\n",
    "                                        min_child_weight=2, gamma=0, subsample=0.8, colsample_bytree=0.8,\n",
    "                                        objective= 'binary:logistic', nthread=4, scale_pos_weight=1,seed=27), \n",
    "                       param_grid = param_test2b, scoring='roc_auc',n_jobs=4,iid=False, cv=5)\n",
    "gsearch2b.fit(train[predictors],train[target])"
   ]
  },
  {
   "cell_type": "code",
   "execution_count": null,
   "metadata": {
    "collapsed": false
   },
   "outputs": [
    {
     "data": {
      "text/plain": [
       "([mean: 0.84125, std: 0.00723, params: {'min_child_weight': 6},\n",
       "  mean: 0.84028, std: 0.00710, params: {'min_child_weight': 8},\n",
       "  mean: 0.83920, std: 0.00674, params: {'min_child_weight': 10},\n",
       "  mean: 0.83996, std: 0.00729, params: {'min_child_weight': 12}],\n",
       " {'min_child_weight': 6},\n",
       " 0.84124915179964577)"
      ]
     },
     "execution_count": 14,
     "metadata": {},
     "output_type": "execute_result"
    }
   ],
   "source": [
    "gsearch2b.grid_scores_, gsearch2b.best_params_, gsearch2b.best_score_"
   ]
  },
  {
   "cell_type": "code",
   "execution_count": null,
   "metadata": {
    "collapsed": false
   },
   "outputs": [
    {
     "data": {
      "text/plain": [
       "GridSearchCV(cv=5, error_score='raise',\n",
       "       estimator=XGBClassifier(base_score=0.5, colsample_bylevel=1, colsample_bytree=0.8,\n",
       "       gamma=0, learning_rate=0.1, max_delta_step=0, max_depth=4,\n",
       "       min_child_weight=6, missing=None, n_estimators=140, nthread=4,\n",
       "       objective='binary:logistic', reg_alpha=0, reg_lambda=1,\n",
       "       scale_pos_weight=1, seed=27, silent=True, subsample=0.8),\n",
       "       fit_params={}, iid=False, n_jobs=4,\n",
       "       param_grid={'gamma': [0.0, 0.1, 0.2, 0.3, 0.4]},\n",
       "       pre_dispatch='2*n_jobs', refit=True, scoring='roc_auc', verbose=0)"
      ]
     },
     "execution_count": 17,
     "metadata": {},
     "output_type": "execute_result"
    }
   ],
   "source": [
    "#Grid seach选择合适的gamma\n",
    "param_test3 = {\n",
    "    'gamma':[i/10.0 for i in range(0,5)]\n",
    "}\n",
    "gsearch3 = GridSearchCV(estimator = XGBClassifier( learning_rate =0.1, n_estimators=140, max_depth=4,\n",
    "                                        min_child_weight=6, gamma=0, subsample=0.8, colsample_bytree=0.8,\n",
    "                                        objective= 'binary:logistic', nthread=4, scale_pos_weight=1,seed=27), \n",
    "                       param_grid = param_test3, scoring='roc_auc',n_jobs=4,iid=False, cv=5)\n",
    "gsearch3.fit(train[predictors],train[target])"
   ]
  },
  {
   "cell_type": "code",
   "execution_count": null,
   "metadata": {
    "collapsed": false
   },
   "outputs": [
    {
     "data": {
      "text/plain": [
       "([mean: 0.84125, std: 0.00723, params: {'gamma': 0.0},\n",
       "  mean: 0.83996, std: 0.00695, params: {'gamma': 0.1},\n",
       "  mean: 0.84045, std: 0.00639, params: {'gamma': 0.2},\n",
       "  mean: 0.84032, std: 0.00673, params: {'gamma': 0.3},\n",
       "  mean: 0.84061, std: 0.00692, params: {'gamma': 0.4}],\n",
       " {'gamma': 0.0},\n",
       " 0.84124915179964577)"
      ]
     },
     "execution_count": 18,
     "metadata": {},
     "output_type": "execute_result"
    }
   ],
   "source": [
    "gsearch3.grid_scores_, gsearch3.best_params_, gsearch3.best_score_"
   ]
  },
  {
   "cell_type": "code",
   "execution_count": null,
   "metadata": {
    "collapsed": false
   },
   "outputs": [
    {
     "name": "stderr",
     "output_type": "stream",
     "text": [
      "Will train until cv error hasn't decreased in 50 rounds.\n",
      "Stopping. Best iteration:\n",
      "[177] cv-mean:0.8451166\tcv-std:0.0123406045006\n"
     ]
    },
    {
     "name": "stdout",
     "output_type": "stream",
     "text": [
      "\n",
      "Model Report\n",
      "Accuracy : 0.9854\n",
      "AUC Score (Train): 0.883836\n",
      "AUC Score (Test): 0.848967\n"
     ]
    },
    {
     "data": {
      "image/png": "[encoded data removed]",
      "text/plain": [
       "<matplotlib.figure.Figure at 0x122519790>"
      ]
     },
     "metadata": {},
     "output_type": "display_data"
    }
   ],
   "source": [
    "predictors = [x for x in train.columns if x not in [target, IDcol]]\n",
    "xgb2 = XGBClassifier(\n",
    "        learning_rate =0.1,\n",
    "        n_estimators=1000,\n",
    "        max_depth=4,\n",
    "        min_child_weight=6,\n",
    "        gamma=0,\n",
    "        subsample=0.8,\n",
    "        colsample_bytree=0.8,\n",
    "        objective= 'binary:logistic',\n",
    "        nthread=4,\n",
    "        scale_pos_weight=1,\n",
    "        seed=27)\n",
    "modelfit(xgb2, train, test, predictors)"
   ]
  },
  {
   "cell_type": "markdown",
   "metadata": {},
   "source": [
    "Tune subsample and colsample_bytree"
   ]
  },
  {
   "cell_type": "code",
   "execution_count": null,
   "metadata": {
    "collapsed": false
   },
   "outputs": [
    {
     "data": {
      "text/plain": [
       "GridSearchCV(cv=5, error_score='raise',\n",
       "       estimator=XGBClassifier(base_score=0.5, colsample_bylevel=1, colsample_bytree=0.8,\n",
       "       gamma=0, learning_rate=0.1, max_delta_step=0, max_depth=4,\n",
       "       min_child_weight=6, missing=None, n_estimators=177, nthread=4,\n",
       "       objective='binary:logistic', reg_alpha=0, reg_lambda=1,\n",
       "       scale_pos_weight=1, seed=27, silent=True, subsample=0.8),\n",
       "       fit_params={}, iid=False, n_jobs=4,\n",
       "       param_grid={'subsample': [0.6, 0.7, 0.8, 0.9], 'colsample_bytree': [0.6, 0.7, 0.8, 0.9]},\n",
       "       pre_dispatch='2*n_jobs', refit=True, scoring='roc_auc', verbose=0)"
      ]
     },
     "execution_count": 20,
     "metadata": {},
     "output_type": "execute_result"
    }
   ],
   "source": [
    "#对subsample 和 colsample_bytree用grid search寻找最合适的参数\n",
    "param_test4 = {\n",
    "    'subsample':[i/10.0 for i in range(6,10)],\n",
    "    'colsample_bytree':[i/10.0 for i in range(6,10)]\n",
    "}\n",
    "gsearch4 = GridSearchCV(estimator = XGBClassifier( learning_rate =0.1, n_estimators=177, max_depth=4,\n",
    "                                        min_child_weight=6, gamma=0, subsample=0.8, colsample_bytree=0.8,\n",
    "                                        objective= 'binary:logistic', nthread=4, scale_pos_weight=1,seed=27), \n",
    "                       param_grid = param_test4, scoring='roc_auc',n_jobs=4,iid=False, cv=5)\n",
    "gsearch4.fit(train[predictors],train[target])"
   ]
  },
  {
   "cell_type": "code",
   "execution_count": null,
   "metadata": {
    "collapsed": false
   },
   "outputs": [
    {
     "data": {
      "text/plain": [
       "([mean: 0.83688, std: 0.00849, params: {'subsample': 0.6, 'colsample_bytree': 0.6},\n",
       "  mean: 0.83834, std: 0.00772, params: {'subsample': 0.7, 'colsample_bytree': 0.6},\n",
       "  mean: 0.83946, std: 0.00813, params: {'subsample': 0.8, 'colsample_bytree': 0.6},\n",
       "  mean: 0.83845, std: 0.00831, params: {'subsample': 0.9, 'colsample_bytree': 0.6},\n",
       "  mean: 0.83816, std: 0.00651, params: {'subsample': 0.6, 'colsample_bytree': 0.7},\n",
       "  mean: 0.83797, std: 0.00668, params: {'subsample': 0.7, 'colsample_bytree': 0.7},\n",
       "  mean: 0.83956, std: 0.00824, params: {'subsample': 0.8, 'colsample_bytree': 0.7},\n",
       "  mean: 0.83892, std: 0.00626, params: {'subsample': 0.9, 'colsample_bytree': 0.7},\n",
       "  mean: 0.83914, std: 0.00794, params: {'subsample': 0.6, 'colsample_bytree': 0.8},\n",
       "  mean: 0.83974, std: 0.00687, params: {'subsample': 0.7, 'colsample_bytree': 0.8},\n",
       "  mean: 0.84102, std: 0.00715, params: {'subsample': 0.8, 'colsample_bytree': 0.8},\n",
       "  mean: 0.84029, std: 0.00645, params: {'subsample': 0.9, 'colsample_bytree': 0.8},\n",
       "  mean: 0.83881, std: 0.00723, params: {'subsample': 0.6, 'colsample_bytree': 0.9},\n",
       "  mean: 0.83975, std: 0.00706, params: {'subsample': 0.7, 'colsample_bytree': 0.9},\n",
       "  mean: 0.83975, std: 0.00648, params: {'subsample': 0.8, 'colsample_bytree': 0.9},\n",
       "  mean: 0.83954, std: 0.00698, params: {'subsample': 0.9, 'colsample_bytree': 0.9}],\n",
       " {'colsample_bytree': 0.8, 'subsample': 0.8},\n",
       " 0.8410246925643593)"
      ]
     },
     "execution_count": 21,
     "metadata": {},
     "output_type": "execute_result"
    }
   ],
   "source": [
    "gsearch4.grid_scores_, gsearch4.best_params_, gsearch4.best_score_"
   ]
  },
  {
   "cell_type": "markdown",
   "metadata": {},
   "source": [
    "tune subsample:"
   ]
  },
  {
   "cell_type": "code",
   "execution_count": null,
   "metadata": {
    "collapsed": false
   },
   "outputs": [
    {
     "data": {
      "text/plain": [
       "GridSearchCV(cv=5, error_score='raise',\n",
       "       estimator=XGBClassifier(base_score=0.5, colsample_bylevel=1, colsample_bytree=0.8,\n",
       "       gamma=0, learning_rate=0.1, max_delta_step=0, max_depth=4,\n",
       "       min_child_weight=6, missing=None, n_estimators=177, nthread=4,\n",
       "       objective='binary:logistic', reg_alpha=0, reg_lambda=1,\n",
       "       scale_pos_weight=1, seed=27, silent=True, subsample=0.8),\n",
       "       fit_params={}, iid=False, n_jobs=4,\n",
       "       param_grid={'subsample': [0.75, 0.8, 0.85], 'colsample_bytree': [0.75, 0.8, 0.85]},\n",
       "       pre_dispatch='2*n_jobs', refit=True, scoring='roc_auc', verbose=0)"
      ]
     },
     "execution_count": 22,
     "metadata": {},
     "output_type": "execute_result"
    }
   ],
   "source": [
    "# 同上\n",
    "param_test5 = {\n",
    "    'subsample':[i/100.0 for i in range(75,90,5)],\n",
    "    'colsample_bytree':[i/100.0 for i in range(75,90,5)]\n",
    "}\n",
    "gsearch5 = GridSearchCV(estimator = XGBClassifier( learning_rate =0.1, n_estimators=177, max_depth=4,\n",
    "                                        min_child_weight=6, gamma=0, subsample=0.8, colsample_bytree=0.8,\n",
    "                                        objective= 'binary:logistic', nthread=4, scale_pos_weight=1,seed=27), \n",
    "                       param_grid = param_test5, scoring='roc_auc',n_jobs=4,iid=False, cv=5)\n",
    "gsearch5.fit(train[predictors],train[target])"
   ]
  },
  {
   "cell_type": "code",
   "execution_count": null,
   "metadata": {
    "collapsed": false
   },
   "outputs": [
    {
     "data": {
      "text/plain": [
       "([mean: 0.83881, std: 0.00795, params: {'subsample': 0.75, 'colsample_bytree': 0.75},\n",
       "  mean: 0.84037, std: 0.00638, params: {'subsample': 0.8, 'colsample_bytree': 0.75},\n",
       "  mean: 0.84013, std: 0.00685, params: {'subsample': 0.85, 'colsample_bytree': 0.75},\n",
       "  mean: 0.83967, std: 0.00694, params: {'subsample': 0.75, 'colsample_bytree': 0.8},\n",
       "  mean: 0.84102, std: 0.00715, params: {'subsample': 0.8, 'colsample_bytree': 0.8},\n",
       "  mean: 0.84087, std: 0.00693, params: {'subsample': 0.85, 'colsample_bytree': 0.8},\n",
       "  mean: 0.83836, std: 0.00738, params: {'subsample': 0.75, 'colsample_bytree': 0.85},\n",
       "  mean: 0.84067, std: 0.00698, params: {'subsample': 0.8, 'colsample_bytree': 0.85},\n",
       "  mean: 0.83978, std: 0.00689, params: {'subsample': 0.85, 'colsample_bytree': 0.85}],\n",
       " {'colsample_bytree': 0.8, 'subsample': 0.8},\n",
       " 0.8410246925643593)"
      ]
     },
     "execution_count": 25,
     "metadata": {},
     "output_type": "execute_result"
    }
   ],
   "source": [
    "gsearch5.grid_scores_, gsearch5.best_params_, gsearch5.best_score_"
   ]
  },
  {
   "cell_type": "markdown",
   "metadata": {},
   "source": [
    "对正则化做交叉验证"
   ]
  },
  {
   "cell_type": "code",
   "execution_count": null,
   "metadata": {
    "collapsed": false
   },
   "outputs": [
    {
     "data": {
      "text/plain": [
       "GridSearchCV(cv=5, error_score='raise',\n",
       "       estimator=XGBClassifier(base_score=0.5, colsample_bylevel=1, colsample_bytree=0.8,\n",
       "       gamma=0.1, learning_rate=0.1, max_delta_step=0, max_depth=4,\n",
       "       min_child_weight=6, missing=None, n_estimators=177, nthread=4,\n",
       "       objective='binary:logistic', reg_alpha=0, reg_lambda=1,\n",
       "       scale_pos_weight=1, seed=27, silent=True, subsample=0.8),\n",
       "       fit_params={}, iid=False, n_jobs=4,\n",
       "       param_grid={'reg_alpha': [1e-05, 0.01, 0.1, 1, 100]},\n",
       "       pre_dispatch='2*n_jobs', refit=True, scoring='roc_auc', verbose=0)"
      ]
     },
     "execution_count": 24,
     "metadata": {},
     "output_type": "execute_result"
    }
   ],
   "source": [
    "#对reg_alpha用grid search寻找最合适的参数\n",
    "param_test6 = {\n",
    "    'reg_alpha':[1e-5, 1e-2, 0.1, 1, 100]\n",
    "}\n",
    "gsearch6 = GridSearchCV(estimator = XGBClassifier( learning_rate =0.1, n_estimators=177, max_depth=4,\n",
    "                                        min_child_weight=6, gamma=0.1, subsample=0.8, colsample_bytree=0.8,\n",
    "                                        objective= 'binary:logistic', nthread=4, scale_pos_weight=1,seed=27), \n",
    "                       param_grid = param_test6, scoring='roc_auc',n_jobs=4,iid=False, cv=5)\n",
    "gsearch6.fit(train[predictors],train[target])"
   ]
  },
  {
   "cell_type": "code",
   "execution_count": null,
   "metadata": {
    "collapsed": false
   },
   "outputs": [
    {
     "data": {
      "text/plain": [
       "([mean: 0.83999, std: 0.00643, params: {'reg_alpha': 1e-05},\n",
       "  mean: 0.84084, std: 0.00639, params: {'reg_alpha': 0.01},\n",
       "  mean: 0.83985, std: 0.00831, params: {'reg_alpha': 0.1},\n",
       "  mean: 0.83989, std: 0.00707, params: {'reg_alpha': 1},\n",
       "  mean: 0.81343, std: 0.01541, params: {'reg_alpha': 100}],\n",
       " {'reg_alpha': 0.01},\n",
       " 0.84084269674772316)"
      ]
     },
     "execution_count": 26,
     "metadata": {},
     "output_type": "execute_result"
    }
   ],
   "source": [
    "gsearch6.grid_scores_, gsearch6.best_params_, gsearch6.best_score_"
   ]
  },
  {
   "cell_type": "code",
   "execution_count": null,
   "metadata": {
    "collapsed": false
   },
   "outputs": [
    {
     "data": {
      "text/plain": [
       "GridSearchCV(cv=5, error_score='raise',\n",
       "       estimator=XGBClassifier(base_score=0.5, colsample_bylevel=1, colsample_bytree=0.8,\n",
       "       gamma=0.1, learning_rate=0.1, max_delta_step=0, max_depth=4,\n",
       "       min_child_weight=6, missing=None, n_estimators=177, nthread=4,\n",
       "       objective='binary:logistic', reg_alpha=0, reg_lambda=1,\n",
       "       scale_pos_weight=1, seed=27, silent=True, subsample=0.8),\n",
       "       fit_params={}, iid=False, n_jobs=4,\n",
       "       param_grid={'reg_alpha': [0, 0.001, 0.005, 0.01, 0.05]},\n",
       "       pre_dispatch='2*n_jobs', refit=True, scoring='roc_auc', verbose=0)"
      ]
     },
     "execution_count": 27,
     "metadata": {},
     "output_type": "execute_result"
    }
   ],
   "source": [
    "# 换一组参数对reg_alpha用grid search寻找最合适的参数\n",
    "param_test7 = {\n",
    "    'reg_alpha':[0, 0.001, 0.005, 0.01, 0.05]\n",
    "}\n",
    "gsearch7 = GridSearchCV(estimator = XGBClassifier( learning_rate =0.1, n_estimators=177, max_depth=4,\n",
    "                                        min_child_weight=6, gamma=0.1, subsample=0.8, colsample_bytree=0.8,\n",
    "                                        objective= 'binary:logistic', nthread=4, scale_pos_weight=1,seed=27), \n",
    "                       param_grid = param_test7, scoring='roc_auc',n_jobs=4,iid=False, cv=5)\n",
    "gsearch7.fit(train[predictors],train[target])"
   ]
  },
  {
   "cell_type": "code",
   "execution_count": null,
   "metadata": {
    "collapsed": false
   },
   "outputs": [
    {
     "data": {
      "text/plain": [
       "([mean: 0.83999, std: 0.00643, params: {'reg_alpha': 0},\n",
       "  mean: 0.83978, std: 0.00663, params: {'reg_alpha': 0.001},\n",
       "  mean: 0.84118, std: 0.00651, params: {'reg_alpha': 0.005},\n",
       "  mean: 0.84084, std: 0.00639, params: {'reg_alpha': 0.01},\n",
       "  mean: 0.84008, std: 0.00690, params: {'reg_alpha': 0.05}],\n",
       " {'reg_alpha': 0.005},\n",
       " 0.84118352535245489)"
      ]
     },
     "execution_count": 28,
     "metadata": {},
     "output_type": "execute_result"
    }
   ],
   "source": [
    "gsearch7.grid_scores_, gsearch7.best_params_, gsearch7.best_score_"
   ]
  },
  {
   "cell_type": "code",
   "execution_count": null,
   "metadata": {
    "collapsed": false
   },
   "outputs": [
    {
     "name": "stderr",
     "output_type": "stream",
     "text": [
      "Will train until cv error hasn't decreased in 50 rounds.\n",
      "Stopping. Best iteration:\n",
      "[188] cv-mean:0.844475\tcv-std:0.0129019770268\n"
     ]
    },
    {
     "name": "stdout",
     "output_type": "stream",
     "text": [
      "\n",
      "Model Report\n",
      "Accuracy : 0.9854\n",
      "AUC Score (Train): 0.887149\n",
      "AUC Score (Test): 0.848972\n"
     ]
    },
    {
     "data": {
      "image/png": "[encoded data removed]",
      "text/plain": [
       "<matplotlib.figure.Figure at 0x112994210>"
      ]
     },
     "metadata": {},
     "output_type": "display_data"
    }
   ],
   "source": [
    "xgb3 = XGBClassifier(\n",
    "        learning_rate =0.1,\n",
    "        n_estimators=1000,\n",
    "        max_depth=4,\n",
    "        min_child_weight=6,\n",
    "        gamma=0,\n",
    "        subsample=0.8,\n",
    "        colsample_bytree=0.8,\n",
    "        reg_alpha=0.005,\n",
    "        objective= 'binary:logistic',\n",
    "        nthread=4,\n",
    "        scale_pos_weight=1,\n",
    "        seed=27)\n",
    "modelfit(xgb3, train, test, predictors)"
   ]
  },
  {
   "cell_type": "code",
   "execution_count": null,
   "metadata": {
    "collapsed": false
   },
   "outputs": [
    {
     "name": "stderr",
     "output_type": "stream",
     "text": [
      "Will train until cv error hasn't decreased in 50 rounds.\n",
      "Stopping. Best iteration:\n",
      "[1732] cv-mean:0.8452782\tcv-std:0.0126670016879\n"
     ]
    },
    {
     "name": "stdout",
     "output_type": "stream",
     "text": [
      "\n",
      "Model Report\n",
      "Accuracy : 0.9854\n",
      "AUC Score (Train): 0.885261\n",
      "AUC Score (Test): 0.849430\n"
     ]
    },
    {
     "data": {
      "image/png": "[encoded data removed]",
      "text/plain": [
       "<matplotlib.figure.Figure at 0x11463b5d0>"
      ]
     },
     "metadata": {},
     "output_type": "display_data"
    }
   ],
   "source": [
    "xgb4 = XGBClassifier(\n",
    "        learning_rate =0.01,\n",
    "        n_estimators=5000,\n",
    "        max_depth=4,\n",
    "        min_child_weight=6,\n",
    "        gamma=0,\n",
    "        subsample=0.8,\n",
    "        colsample_bytree=0.8,\n",
    "        reg_alpha=0.005,\n",
    "        objective= 'binary:logistic',\n",
    "        nthread=4,\n",
    "        scale_pos_weight=1,\n",
    "        seed=27)\n",
    "modelfit(xgb4, train, test, predictors)"
   ]
  },
  {
   "cell_type": "code",
   "execution_count": null,
   "metadata": {
    "collapsed": true
   },
   "outputs": [],
   "source": []
  }
 ],
 "metadata": {
  "kernelspec": {
   "display_name": "Python 3",
   "language": "python",
   "name": "python3"
  },
  "language_info": {
   "codemirror_mode": {
    "name": "ipython",
    "version": 3
   },
   "file_extension": ".py",
   "mimetype": "text/x-python",
   "name": "python",
   "nbconvert_exporter": "python",
   "pygments_lexer": "ipython3",
   "version": "3.9.12"
  }
 },
 "nbformat": 4,
 "nbformat_minor": 0
}
